{
 "cells": [
  {
   "cell_type": "code",
   "execution_count": 20,
   "id": "3ef3e34e",
   "metadata": {},
   "outputs": [
    {
     "name": "stdout",
     "output_type": "stream",
     "text": [
      "\n",
      "Obtained Marks: 281\n",
      "Total Marks: 300\n",
      "Percentage: 93.66666666666667\n",
      "Grade: A+\n"
     ]
    }
   ],
   "source": [
    "Eng = 96;\n",
    "Isl = 98;\n",
    "Math = 87;\n",
    "\n",
    "Total_Marks = 300;\n",
    "\n",
    "Obtained_Marks = Eng + Isl + Math;\n",
    "\n",
    "Percentage = Obtained_Marks / Total_Marks * 100\n",
    "\n",
    "if Percentage > 80 and Percentage <= 100:\n",
    "    print(\"\\nObtained Marks: \" + str(Obtained_Marks))\n",
    "    print(\"Total Marks: \" + str(Total_Marks))\n",
    "    print(\"Percentage: \" + str(Percentage))\n",
    "    print(\"Grade: A+\")\n",
    "    \n",
    "elif Percentage > 70 and Percentage <= 80:\n",
    "    print(\"\\nObtained Marks: \" + str(Obtained_Marks))\n",
    "    print(\"Total Marks: \" + str(Total_Marks))\n",
    "    print(\"Percentage: \" + str(Percentage))\n",
    "    print(\"Grade: A\")\n",
    "    \n",
    "elif Percentage > 60 and Percentage <= 70:\n",
    "    print(\"\\nObtained Marks: \" + str(Obtained_Marks))\n",
    "    print(\"Total Marks: \" + str(Total_Marks))\n",
    "    print(\"Percentage: \" + str(Percentage))\n",
    "    print(\"Grade: B\")\n",
    "    \n",
    "elif Percentage > 50 and Percentage <= 60:\n",
    "    print(\"\\nObtained Marks: \" + str(Obtained_Marks))\n",
    "    print(\"Total Marks: \" + str(Total_Marks))\n",
    "    print(\"Percentage: \" + str(Percentage))\n",
    "    print(\"Grade: C\")\n",
    "    \n",
    "elif Percentage > 40 and Percentage <= 50:\n",
    "    print(\"\\nObtained Marks: \" + str(Obtained_Marks))\n",
    "    print(\"Total Marks: \" + str(Total_Marks))\n",
    "    print(\"Percentage: \" + str(Percentage))\n",
    "    print(\"Grade: D\")\n",
    "\n",
    "elif Percentage > 33 and Percentage <= 40:\n",
    "    print(\"\\nObtained Marks: \" + str(Obtained_Marks))\n",
    "    print(\"Total Marks: \" + str(Total_Marks))\n",
    "    print(\"Percentage: \" + str(Percentage))\n",
    "    print(\"Grade: E\")\n",
    "\n",
    "elif Percentage >= 0 and Percentage <= 33:\n",
    "    print(\"\\nObtained Marks: \" + str(Obtained_Marks))\n",
    "    print(\"Total Marks: \" + str(Total_Marks))\n",
    "    print(\"Percentage: \" + str(Percentage))\n",
    "    print(\"You Are Fail...!\")\n",
    "\n",
    "else:\n",
    "    print(\"\\nYou Did Not Write Correct Marks...!\")"
   ]
  }
 ],
 "metadata": {
  "kernelspec": {
   "display_name": "Python 3",
   "language": "python",
   "name": "python3"
  },
  "language_info": {
   "codemirror_mode": {
    "name": "ipython",
    "version": 3
   },
   "file_extension": ".py",
   "mimetype": "text/x-python",
   "name": "python",
   "nbconvert_exporter": "python",
   "pygments_lexer": "ipython3",
   "version": "3.8.8"
  }
 },
 "nbformat": 4,
 "nbformat_minor": 5
}
