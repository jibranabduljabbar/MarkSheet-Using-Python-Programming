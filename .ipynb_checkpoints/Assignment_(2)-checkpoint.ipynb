{
 "cells": [
  {
   "cell_type": "code",
   "execution_count": 12,
   "id": "27ea9912",
   "metadata": {},
   "outputs": [
    {
     "name": "stdout",
     "output_type": "stream",
     "text": [
      "Enter Your Percentage: 150\n",
      "You Did Not Write Correct Percentage...!\n"
     ]
    }
   ],
   "source": [
    "percent = int(input(\"Enter Your Percentage: \"));\n",
    "\n",
    "if percent >= 80 and percent <= 100:\n",
    "    print(\"Grade: A+\")\n",
    "    \n",
    "elif percent >= 70 and percent <= 80:\n",
    "    print(\"Grade: A\")\n",
    "    \n",
    "elif percent >= 60 and percent <= 70:\n",
    "    print(\"Grade: B\")\n",
    "    \n",
    "elif percent >= 50 and percent <= 60:\n",
    "    print(\"Grade: C\")\n",
    "    \n",
    "elif percent >= 40 and percent <= 50:\n",
    "    print(\"Grade: D\")\n",
    "\n",
    "elif percent >= 33 and percent <= 40:\n",
    "    print(\"Grade: E\")\n",
    "\n",
    "elif percent >= 0 and percent <= 33:\n",
    "    print(\"You Are Fail...!\")\n",
    "    \n",
    "else:\n",
    "    print(\"You Did Not Write Correct Percentage...!\")"
   ]
  }
 ],
 "metadata": {
  "kernelspec": {
   "display_name": "Python 3",
   "language": "python",
   "name": "python3"
  },
  "language_info": {
   "codemirror_mode": {
    "name": "ipython",
    "version": 3
   },
   "file_extension": ".py",
   "mimetype": "text/x-python",
   "name": "python",
   "nbconvert_exporter": "python",
   "pygments_lexer": "ipython3",
   "version": "3.8.8"
  }
 },
 "nbformat": 4,
 "nbformat_minor": 5
}
